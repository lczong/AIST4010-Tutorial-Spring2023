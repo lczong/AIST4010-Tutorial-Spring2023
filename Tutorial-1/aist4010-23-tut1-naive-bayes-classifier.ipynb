{
 "cells": [
  {
   "cell_type": "code",
   "execution_count": 1,
   "id": "07256a70",
   "metadata": {
    "_cell_guid": "b1076dfc-b9ad-4769-8c92-a6c4dae69d19",
    "_uuid": "8f2839f25d086af736a60e9eeb907d3b93b6e0e5",
    "execution": {
     "iopub.execute_input": "2023-01-14T09:35:59.603879Z",
     "iopub.status.busy": "2023-01-14T09:35:59.603143Z",
     "iopub.status.idle": "2023-01-14T09:35:59.617193Z",
     "shell.execute_reply": "2023-01-14T09:35:59.615776Z"
    },
    "papermill": {
     "duration": 0.024331,
     "end_time": "2023-01-14T09:35:59.621790",
     "exception": false,
     "start_time": "2023-01-14T09:35:59.597459",
     "status": "completed"
    },
    "tags": []
   },
   "outputs": [
    {
     "name": "stdout",
     "output_type": "stream",
     "text": [
      "/kaggle/input/aist4010-spring2023-a0/sample_submission.csv\n",
      "/kaggle/input/aist4010-spring2023-a0/X_test.csv\n",
      "/kaggle/input/aist4010-spring2023-a0/y_train.csv\n",
      "/kaggle/input/aist4010-spring2023-a0/X_train.csv\n",
      "/kaggle/input/aist4010-spring2023-a0/iris_information.txt\n"
     ]
    }
   ],
   "source": [
    "# This Python 3 environment comes with many helpful analytics libraries installed\n",
    "# It is defined by the kaggle/python Docker image: https://github.com/kaggle/docker-python\n",
    "# For example, here's several helpful packages to load\n",
    "\n",
    "import numpy as np # linear algebra\n",
    "import pandas as pd # data processing, CSV file I/O (e.g. pd.read_csv)\n",
    "\n",
    "# Input data files are available in the read-only \"../input/\" directory\n",
    "# For example, running this (by clicking run or pressing Shift+Enter) will list all files under the input directory\n",
    "\n",
    "import os\n",
    "for dirname, _, filenames in os.walk('/kaggle/input'):\n",
    "    for filename in filenames:\n",
    "        print(os.path.join(dirname, filename))\n",
    "\n",
    "# You can write up to 20GB to the current directory (/kaggle/working/) that gets preserved as output when you create a version using \"Save & Run All\" \n",
    "# You can also write temporary files to /kaggle/temp/, but they won't be saved outside of the current session"
   ]
  },
  {
   "cell_type": "code",
   "execution_count": 2,
   "id": "34ce4302",
   "metadata": {
    "execution": {
     "iopub.execute_input": "2023-01-14T09:35:59.630471Z",
     "iopub.status.busy": "2023-01-14T09:35:59.629833Z",
     "iopub.status.idle": "2023-01-14T09:35:59.650201Z",
     "shell.execute_reply": "2023-01-14T09:35:59.649300Z"
    },
    "papermill": {
     "duration": 0.027309,
     "end_time": "2023-01-14T09:35:59.652697",
     "exception": false,
     "start_time": "2023-01-14T09:35:59.625388",
     "status": "completed"
    },
    "tags": []
   },
   "outputs": [],
   "source": [
    "X_train = np.loadtxt(open(\"/kaggle/input/aist4010-spring2023-a0/X_train.csv\",\"rb\"), delimiter=\",\", skiprows=0)\n",
    "y_train = np.loadtxt(open(\"/kaggle/input/aist4010-spring2023-a0/y_train.csv\",\"rb\"), delimiter=\",\", skiprows=0)"
   ]
  },
  {
   "cell_type": "code",
   "execution_count": 3,
   "id": "ffc25c04",
   "metadata": {
    "execution": {
     "iopub.execute_input": "2023-01-14T09:35:59.660839Z",
     "iopub.status.busy": "2023-01-14T09:35:59.660082Z",
     "iopub.status.idle": "2023-01-14T09:35:59.666510Z",
     "shell.execute_reply": "2023-01-14T09:35:59.665061Z"
    },
    "papermill": {
     "duration": 0.013195,
     "end_time": "2023-01-14T09:35:59.669001",
     "exception": false,
     "start_time": "2023-01-14T09:35:59.655806",
     "status": "completed"
    },
    "tags": []
   },
   "outputs": [
    {
     "name": "stdout",
     "output_type": "stream",
     "text": [
      "X_train:\n",
      " [[7.7 2.6 6.9 2.3]\n",
      " [5.7 3.8 1.7 0.3]\n",
      " [5.  3.6 1.4 0.2]]\n",
      "y_train:\n",
      " [2. 0. 0.]\n"
     ]
    }
   ],
   "source": [
    "print('X_train:\\n', X_train[0:3])\n",
    "print('y_train:\\n', y_train[0:3])"
   ]
  },
  {
   "cell_type": "code",
   "execution_count": 4,
   "id": "d207fb73",
   "metadata": {
    "execution": {
     "iopub.execute_input": "2023-01-14T09:35:59.679142Z",
     "iopub.status.busy": "2023-01-14T09:35:59.678583Z",
     "iopub.status.idle": "2023-01-14T09:36:00.900308Z",
     "shell.execute_reply": "2023-01-14T09:36:00.899475Z"
    },
    "papermill": {
     "duration": 1.229006,
     "end_time": "2023-01-14T09:36:00.902891",
     "exception": false,
     "start_time": "2023-01-14T09:35:59.673885",
     "status": "completed"
    },
    "tags": []
   },
   "outputs": [
    {
     "data": {
      "text/plain": [
       "GaussianNB()"
      ]
     },
     "execution_count": 4,
     "metadata": {},
     "output_type": "execute_result"
    }
   ],
   "source": [
    "from sklearn.naive_bayes import GaussianNB\n",
    "clf = GaussianNB()\n",
    "clf.fit(X_train, y_train)"
   ]
  },
  {
   "cell_type": "code",
   "execution_count": 5,
   "id": "0602a312",
   "metadata": {
    "execution": {
     "iopub.execute_input": "2023-01-14T09:36:00.913660Z",
     "iopub.status.busy": "2023-01-14T09:36:00.913234Z",
     "iopub.status.idle": "2023-01-14T09:36:00.925427Z",
     "shell.execute_reply": "2023-01-14T09:36:00.924235Z"
    },
    "papermill": {
     "duration": 0.01937,
     "end_time": "2023-01-14T09:36:00.927947",
     "exception": false,
     "start_time": "2023-01-14T09:36:00.908577",
     "status": "completed"
    },
    "tags": []
   },
   "outputs": [],
   "source": [
    "X_test = np.loadtxt(open(\"/kaggle/input/aist4010-spring2023-a0/X_test.csv\",\"rb\"), delimiter=\",\", skiprows=0)\n",
    "y_pred = clf.predict(X_test)"
   ]
  },
  {
   "cell_type": "code",
   "execution_count": 6,
   "id": "875f7c5e",
   "metadata": {
    "execution": {
     "iopub.execute_input": "2023-01-14T09:36:00.935926Z",
     "iopub.status.busy": "2023-01-14T09:36:00.935493Z",
     "iopub.status.idle": "2023-01-14T09:36:00.944293Z",
     "shell.execute_reply": "2023-01-14T09:36:00.943064Z"
    },
    "papermill": {
     "duration": 0.015478,
     "end_time": "2023-01-14T09:36:00.946709",
     "exception": false,
     "start_time": "2023-01-14T09:36:00.931231",
     "status": "completed"
    },
    "tags": []
   },
   "outputs": [],
   "source": [
    "import pandas as pd\n",
    "output = {'Predicted':y_pred}\n",
    "output_df = pd.DataFrame(output)"
   ]
  },
  {
   "cell_type": "code",
   "execution_count": 7,
   "id": "1aa2bd1f",
   "metadata": {
    "execution": {
     "iopub.execute_input": "2023-01-14T09:36:00.955375Z",
     "iopub.status.busy": "2023-01-14T09:36:00.954303Z",
     "iopub.status.idle": "2023-01-14T09:36:00.972234Z",
     "shell.execute_reply": "2023-01-14T09:36:00.971208Z"
    },
    "papermill": {
     "duration": 0.024576,
     "end_time": "2023-01-14T09:36:00.974549",
     "exception": false,
     "start_time": "2023-01-14T09:36:00.949973",
     "status": "completed"
    },
    "tags": []
   },
   "outputs": [
    {
     "data": {
      "text/html": [
       "<div>\n",
       "<style scoped>\n",
       "    .dataframe tbody tr th:only-of-type {\n",
       "        vertical-align: middle;\n",
       "    }\n",
       "\n",
       "    .dataframe tbody tr th {\n",
       "        vertical-align: top;\n",
       "    }\n",
       "\n",
       "    .dataframe thead th {\n",
       "        text-align: right;\n",
       "    }\n",
       "</style>\n",
       "<table border=\"1\" class=\"dataframe\">\n",
       "  <thead>\n",
       "    <tr style=\"text-align: right;\">\n",
       "      <th></th>\n",
       "      <th>Predicted</th>\n",
       "    </tr>\n",
       "  </thead>\n",
       "  <tbody>\n",
       "    <tr>\n",
       "      <th>0</th>\n",
       "      <td>0.0</td>\n",
       "    </tr>\n",
       "    <tr>\n",
       "      <th>1</th>\n",
       "      <td>1.0</td>\n",
       "    </tr>\n",
       "    <tr>\n",
       "      <th>2</th>\n",
       "      <td>1.0</td>\n",
       "    </tr>\n",
       "  </tbody>\n",
       "</table>\n",
       "</div>"
      ],
      "text/plain": [
       "   Predicted\n",
       "0        0.0\n",
       "1        1.0\n",
       "2        1.0"
      ]
     },
     "execution_count": 7,
     "metadata": {},
     "output_type": "execute_result"
    }
   ],
   "source": [
    "output_df.head(3)"
   ]
  },
  {
   "cell_type": "code",
   "execution_count": 8,
   "id": "a07da588",
   "metadata": {
    "execution": {
     "iopub.execute_input": "2023-01-14T09:36:00.983462Z",
     "iopub.status.busy": "2023-01-14T09:36:00.982583Z",
     "iopub.status.idle": "2023-01-14T09:36:00.990648Z",
     "shell.execute_reply": "2023-01-14T09:36:00.989924Z"
    },
    "papermill": {
     "duration": 0.014646,
     "end_time": "2023-01-14T09:36:00.992848",
     "exception": false,
     "start_time": "2023-01-14T09:36:00.978202",
     "status": "completed"
    },
    "tags": []
   },
   "outputs": [],
   "source": [
    "output_df.to_csv('output.csv', index_label='Id')"
   ]
  }
 ],
 "metadata": {
  "kernelspec": {
   "display_name": "Python 3",
   "language": "python",
   "name": "python3"
  },
  "language_info": {
   "codemirror_mode": {
    "name": "ipython",
    "version": 3
   },
   "file_extension": ".py",
   "mimetype": "text/x-python",
   "name": "python",
   "nbconvert_exporter": "python",
   "pygments_lexer": "ipython3",
   "version": "3.7.12"
  },
  "papermill": {
   "default_parameters": {},
   "duration": 11.008197,
   "end_time": "2023-01-14T09:36:01.723834",
   "environment_variables": {},
   "exception": null,
   "input_path": "__notebook__.ipynb",
   "output_path": "__notebook__.ipynb",
   "parameters": {},
   "start_time": "2023-01-14T09:35:50.715637",
   "version": "2.3.4"
  }
 },
 "nbformat": 4,
 "nbformat_minor": 5
}
