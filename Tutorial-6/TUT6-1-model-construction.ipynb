{
  "cells": [
    {
      "cell_type": "markdown",
      "metadata": {
        "origin_pos": 0,
        "id": "iu7PKe_MdzTk"
      },
      "source": [
        "# TUT6-1-model-construction\n",
        "\n",
        "Previously, we implement some simple models including Softmax Regression and MLP. Both of them only contain several simple layers. So, we can just stack those layers to form our networks.\n",
        "\n",
        "But we usually need to implement some large models including some complicated layers. These layers actually consist of repeating patterns of *groups of layers* like the model in the figure. \n",
        "\n",
        "![Multiple layers are combined into blocks, forming repeating patterns of larger models.](http://d2l.ai/_images/blocks.svg)\n"
      ]
    },
    {
      "cell_type": "markdown",
      "source": [
        "## **1. Layers and Blocks**\n",
        "Therefore, we introduce the concept of a neural network **block**.\n",
        "A block could describe a single layer,\n",
        "a component consisting of multiple layers,\n",
        "or the entire model itself.\n",
        "\n",
        "We can freely combine these blocks, often recursively to build large models.\n",
        "\n",
        "From a programming standpoint, a block is represented by a ***class***. In Pytorch, it is `nn.Module`.\n",
        "\n",
        "The `nn.Module` class is very useful. It defines basic architecture of a layer or a block.\n",
        "\n",
        "So we could create subclass of the `nn.Module` class to build our layers of blocks.\n",
        "\n",
        "We just need to define the forward propagation function and how to arrange our parameters.\n",
        "\n",
        "If you are interested in what how the `nn.Module` is constructed, you may refer its [source code](https://pytorch.org/docs/stable/_modules/torch/nn/modules/module.html#Module).\n",
        "\n",
        "[**To begin, we revisit the code\n",
        "that we used to implement MLPs**]\n",
        "\n",
        "A network with one fully-connected hidden layer\n",
        "with 256 units and ReLU activation,\n",
        "followed by a fully-connected output layer\n",
        "with 10 units (no activation function).\n"
      ],
      "metadata": {
        "id": "0QmPFO6dsdl4"
      }
    },
    {
      "cell_type": "code",
      "execution_count": 1,
      "metadata": {
        "origin_pos": 2,
        "tab": [
          "pytorch"
        ],
        "id": "xHkZVZYtdzTm",
        "outputId": "55375194-97b9-4dc9-e0ba-d2c77c4a6f1f",
        "colab": {
          "base_uri": "https://localhost:8080/"
        }
      },
      "outputs": [
        {
          "output_type": "execute_result",
          "data": {
            "text/plain": [
              "tensor([[ 0.0903,  0.0643,  0.1121, -0.0141, -0.0981, -0.2249,  0.2130, -0.0885,\n",
              "         -0.0124, -0.1376],\n",
              "        [ 0.0918,  0.0252,  0.1326, -0.1469, -0.2427, -0.3593,  0.1703,  0.0129,\n",
              "         -0.0499,  0.0526]], grad_fn=<AddmmBackward0>)"
            ]
          },
          "metadata": {},
          "execution_count": 1
        }
      ],
      "source": [
        "import torch\n",
        "from torch import nn\n",
        "from torch.nn import functional as F\n",
        "\n",
        "net = nn.Sequential(nn.Linear(20, 256), \n",
        "                    nn.ReLU(), \n",
        "                    nn.Linear(256, 10))\n",
        "\n",
        "X = torch.rand(2, 20)\n",
        "net(X)"
      ]
    },
    {
      "cell_type": "markdown",
      "metadata": {
        "origin_pos": 5,
        "tab": [
          "pytorch"
        ],
        "id": "8VhmexoedzTn"
      },
      "source": [
        "In this example, we constructed\n",
        "our model by instantiating an `nn.Sequential`, with some layers passed to it in this order.\n",
        "Actually, **`nn.Sequential` defines a special kind of `Module`**. It's also like a block.\n",
        "\n",
        "It constructs a block with an ordered list of `nn.Module`s.\n",
        "Note that each of the two fully-connected layers is an instance of the `nn.Linear` class. The `nn.Linear` class is itself a subclass of `nn.Module`.\n",
        "\n",
        "The forward propagation (`forward`) function is also remarkably simple:\n",
        "it chains each block in the list together,\n",
        "passing the output of each as the input to the next.\n",
        "\n",
        "Note that until now, we have been invoking our models\n",
        "via the construction `net(X)` to obtain their outputs.\n",
        "\n",
        "Next, let's see how the block works."
      ]
    },
    {
      "cell_type": "markdown",
      "metadata": {
        "origin_pos": 7,
        "id": "x3CVJsXFdzTo"
      },
      "source": [
        "## **2. A Custom Block**\n",
        "\n",
        "Perhaps the easiest way to develop intuition\n",
        "about how a block works\n",
        "is to implement one ourselves.\n",
        "Before we implement our own custom block,\n",
        "we briefly summarize the basic functionality\n",
        "that each block must provide:\n"
      ]
    },
    {
      "cell_type": "markdown",
      "metadata": {
        "origin_pos": 9,
        "tab": [
          "pytorch"
        ],
        "id": "VDon5XMYdzTo"
      },
      "source": [
        "1. Ingest input data as arguments to its forward propagation function.\n",
        "1. Generate an output by having the forward propagation function return a value. Note that the output may have a different shape from the input. \n",
        "1. Calculate the gradient of its output with respect to its input, which can be accessed via its backpropagation function. Typically this happens automatically.\n",
        "1. Store and provide access to those parameters necessary\n",
        "   to execute the forward propagation computation.\n",
        "1. Initialize model parameters as needed.\n"
      ]
    },
    {
      "cell_type": "markdown",
      "metadata": {
        "origin_pos": 10,
        "id": "jZSS4WXadzTo"
      },
      "source": [
        "Then let's code up a block from scratch\n",
        "corresponding to an MLP\n",
        "with one hidden layer with 256 hidden units,\n",
        "and a 10-dimensional output layer like we build before.\n",
        "\n",
        "Note that the `MLP` class below inherits the class that represents a block.\n",
        "We will heavily rely on the parent class's functions,\n",
        "supplying only our own constructor (the `__init__` function in Python) and the forward propagation function.\n"
      ]
    },
    {
      "cell_type": "code",
      "execution_count": 2,
      "metadata": {
        "origin_pos": 12,
        "tab": [
          "pytorch"
        ],
        "id": "pNZ2b4TYdzTo"
      },
      "outputs": [],
      "source": [
        "class MLP(nn.Module):\n",
        "    # Declare a layer with model parameters. Here, we declare two fully\n",
        "    # connected layers\n",
        "    def __init__(self):\n",
        "        # Call the constructor of the `MLP` parent class `Module` to perform\n",
        "        # the necessary initialization. In this way, other function arguments\n",
        "        # can also be specified during class instantiation, such as the model\n",
        "        # parameters, `params` (to be described later)\n",
        "        super().__init__()\n",
        "        self.hidden = nn.Linear(20, 256)  # Hidden layer\n",
        "        self.relu = nn.ReLU(inplace=True) # ReLU layer\n",
        "        self.out = nn.Linear(256, 10)  # Output layer\n",
        "\n",
        "    # Define the forward propagation of the model, that is, how to return the\n",
        "    # required model output based on the input `X`\n",
        "    def forward(self, X):\n",
        "        X = self.hidden(X)\n",
        "        X = self.relu(X)\n",
        "        X = self.out(X)\n",
        "        return X"
      ]
    },
    {
      "cell_type": "markdown",
      "metadata": {
        "origin_pos": 14,
        "id": "tw2ns97xdzTp"
      },
      "source": [
        "Let us first focus on the forward propagation function.\n",
        "Note that it takes `X` as the input,\n",
        "calculates the hidden representation\n",
        "with the activation function applied,\n",
        "and outputs its logits.\n",
        "\n",
        "We [**instantiate the MLP's layers**]\n",
        "in the constructor\n",
        "(**and subsequently invoke these layers**)\n",
        "on each call to the forward propagation function.\n",
        "\n",
        "Note a few key details.\n",
        "First, our customized `__init__` function\n",
        "invokes the parent class's `__init__` function\n",
        "via `super().__init__()`\n",
        "sparing us the pain of restating\n",
        "boilerplate code applicable to most blocks.\n",
        "We then instantiate our two fully-connected layers,\n",
        "assigning them to `self.hidden` and `self.out`.\n",
        "Note that unless we implement a new operator,\n",
        "we need not worry about the backpropagation function\n",
        "or parameter initialization.\n",
        "The system will generate these functions automatically.\n",
        "Let us try this out.\n"
      ]
    },
    {
      "cell_type": "code",
      "execution_count": 3,
      "metadata": {
        "origin_pos": 16,
        "tab": [
          "pytorch"
        ],
        "id": "nI51WrvbdzTp",
        "outputId": "97fba99c-8cea-4776-9c4d-d703d1e1bd64",
        "colab": {
          "base_uri": "https://localhost:8080/"
        }
      },
      "outputs": [
        {
          "output_type": "execute_result",
          "data": {
            "text/plain": [
              "tensor([[ 0.1539,  0.1288,  0.0579, -0.0442,  0.2028,  0.1582, -0.0716, -0.2399,\n",
              "          0.0633,  0.1591],\n",
              "        [ 0.1063,  0.0590, -0.0611,  0.0661,  0.1596,  0.0098, -0.0008, -0.2224,\n",
              "          0.2123,  0.1943]], grad_fn=<AddmmBackward0>)"
            ]
          },
          "metadata": {},
          "execution_count": 3
        }
      ],
      "source": [
        "net = MLP() # -> __init__(self)\n",
        "net(X)      # -> forward(self, X)"
      ]
    },
    {
      "cell_type": "markdown",
      "source": [
        "A key virtue of the block abstraction is its versatility.\n",
        "We can subclass a block (`nn.Module`) to create layers\n",
        "(such as the fully-connected layer class),\n",
        "entire models (such as the `MLP` class above),\n",
        "or various components of intermediate complexity.\n",
        "\n",
        "## **3. Init a Model with model parameters**\n",
        "We can also define a model with parameters inputs (num_class)."
      ],
      "metadata": {
        "id": "AyLv7lstL2VA"
      }
    },
    {
      "cell_type": "code",
      "execution_count": 4,
      "metadata": {
        "origin_pos": 12,
        "tab": [
          "pytorch"
        ],
        "id": "mk9BbsGUL5hN"
      },
      "outputs": [],
      "source": [
        "class MLP2(nn.Module):\n",
        "    def __init__(self, num_class = 3):\n",
        "        # Specified the output classes during class instantiation\n",
        "        super().__init__()\n",
        "        self.hidden = nn.Linear(20, 256)  # Hidden layer\n",
        "        self.relu = nn.ReLU(inplace=True) # ReLU layer\n",
        "        self.out = nn.Linear(256, num_class)  # Output layer\n",
        "\n",
        "    # Define the forward propagation of the model, that is, how to return the\n",
        "    # required model output based on the input `X`\n",
        "    def forward(self, X):\n",
        "        X = self.hidden(X)\n",
        "        X = self.relu(X)\n",
        "        X = self.out(X)\n",
        "        return X"
      ]
    },
    {
      "cell_type": "markdown",
      "source": [
        "The input `X` is a (2, 20) matrix"
      ],
      "metadata": {
        "id": "FvFt48MxN2Xf"
      }
    },
    {
      "cell_type": "code",
      "source": [
        "X"
      ],
      "metadata": {
        "colab": {
          "base_uri": "https://localhost:8080/"
        },
        "id": "nRaQa5gKN_xC",
        "outputId": "b2cc8a8a-f874-465c-9b62-f44335a89dad"
      },
      "execution_count": 5,
      "outputs": [
        {
          "output_type": "execute_result",
          "data": {
            "text/plain": [
              "tensor([[0.4151, 0.7088, 0.2830, 0.0239, 0.0146, 0.0602, 0.7729, 0.6212, 0.8712,\n",
              "         0.0146, 0.1740, 0.7631, 0.4419, 0.2659, 0.9755, 0.3481, 0.7154, 0.3032,\n",
              "         0.4802, 0.7021],\n",
              "        [0.0927, 0.4254, 0.8712, 0.9307, 0.2788, 0.5742, 0.3066, 0.0033, 0.6408,\n",
              "         0.0058, 0.2721, 0.5410, 0.2894, 0.5601, 0.1927, 0.8475, 0.4338, 0.8386,\n",
              "         0.7734, 0.5987]])"
            ]
          },
          "metadata": {},
          "execution_count": 5
        }
      ]
    },
    {
      "cell_type": "markdown",
      "source": [
        "Input the parameter during model initialization.\n",
        "`num_class=6`"
      ],
      "metadata": {
        "id": "bccJEa_HOLZ9"
      }
    },
    {
      "cell_type": "code",
      "execution_count": 6,
      "metadata": {
        "origin_pos": 16,
        "tab": [
          "pytorch"
        ],
        "outputId": "3f137487-9c80-4c1e-a138-9627b456af74",
        "colab": {
          "base_uri": "https://localhost:8080/"
        },
        "id": "M1mtn8ZlNgzF"
      },
      "outputs": [
        {
          "output_type": "execute_result",
          "data": {
            "text/plain": [
              "tensor([[-0.1586,  0.0686,  0.0355, -0.1779,  0.0440,  0.1953,  0.0668, -0.0779],\n",
              "        [-0.0716,  0.1717,  0.1281, -0.2385,  0.1536,  0.2048,  0.1064, -0.1016]],\n",
              "       grad_fn=<AddmmBackward0>)"
            ]
          },
          "metadata": {},
          "execution_count": 6
        }
      ],
      "source": [
        "net = MLP2(num_class=8) # -> __init__(self, num_class)\n",
        "net(X)                  # -> forward(self, X)"
      ]
    },
    {
      "cell_type": "markdown",
      "source": [
        "Use the default value for the `num_class`."
      ],
      "metadata": {
        "id": "psoeAtn7OjVQ"
      }
    },
    {
      "cell_type": "code",
      "execution_count": 7,
      "metadata": {
        "origin_pos": 16,
        "tab": [
          "pytorch"
        ],
        "outputId": "22ab78c6-eb8a-479f-c3f3-537639611721",
        "colab": {
          "base_uri": "https://localhost:8080/"
        },
        "id": "yesHRgOtNGud"
      },
      "outputs": [
        {
          "output_type": "execute_result",
          "data": {
            "text/plain": [
              "tensor([[-0.0055,  0.0099,  0.2133],\n",
              "        [ 0.0239, -0.0593,  0.1162]], grad_fn=<AddmmBackward0>)"
            ]
          },
          "metadata": {},
          "execution_count": 7
        }
      ],
      "source": [
        "net = MLP2() # -> __init__(self, num_class=3)\n",
        "net(X)       # -> forward(self, X)"
      ]
    },
    {
      "cell_type": "markdown",
      "metadata": {
        "origin_pos": 18,
        "id": "lQoromk5dzTp"
      },
      "source": [
        "## **4. The Sequential Block**\n",
        "\n",
        "We can now take a closer look\n",
        "at how the `Sequential` class works.\n",
        "Recall that `Sequential` was designed\n",
        "to daisy-chain other blocks together.\n",
        "To build our own simplified `MySequential`,\n",
        "we just need to define two key function:\n",
        "1. A function to append blocks one by one to a list.\n",
        "2. A forward propagation function to pass an input through the chain of blocks, in the same order as they were appended.\n",
        "\n",
        "The following `MySequential` class delivers the same\n",
        "functionality of the default `Sequential` class.\n"
      ]
    },
    {
      "cell_type": "code",
      "execution_count": 8,
      "metadata": {
        "origin_pos": 20,
        "tab": [
          "pytorch"
        ],
        "id": "JQGqID_7dzTq"
      },
      "outputs": [],
      "source": [
        "class MySequential(nn.Module):\n",
        "    def __init__(self, *args):\n",
        "        super().__init__()\n",
        "        for idx, module in enumerate(args):\n",
        "            # Here, `module` is an instance of a `Module` subclass. We save it\n",
        "            # in the member variable `_modules` of the `Module` class, and its\n",
        "            # type is OrderedDict\n",
        "            self._modules[str(idx)] = module\n",
        "\n",
        "    def forward(self, X):\n",
        "        # OrderedDict guarantees that members will be traversed in the order\n",
        "        # they were added\n",
        "        for block in self._modules.values():\n",
        "            X = block(X)\n",
        "        return X"
      ]
    },
    {
      "cell_type": "markdown",
      "metadata": {
        "origin_pos": 23,
        "tab": [
          "pytorch"
        ],
        "id": "SwaX2yjOdzTq"
      },
      "source": [
        "In the `__init__` method, we add every module\n",
        "to the ordered dictionary `_modules` one by one.\n",
        "You might wonder why every `Module`\n",
        "possesses a `_modules` attribute\n",
        "and why we used it rather than just\n",
        "define a Python list ourselves.\n",
        "In short the chief advantage of `_modules`\n",
        "is that during our module's parameter initialization,\n",
        "the system knows to look inside the `_modules`\n",
        "dictionary to find sub-modules whose\n",
        "parameters also need to be initialized.\n"
      ]
    },
    {
      "cell_type": "markdown",
      "metadata": {
        "origin_pos": 24,
        "id": "aoKtFoPAdzTq"
      },
      "source": [
        "When our `MySequential`'s forward propagation function is invoked,\n",
        "each added block is executed\n",
        "in the order in which they were added.\n",
        "We can now reimplement an MLP\n",
        "using our `MySequential` class.\n"
      ]
    },
    {
      "cell_type": "code",
      "execution_count": 9,
      "metadata": {
        "origin_pos": 26,
        "tab": [
          "pytorch"
        ],
        "id": "uZoWb-ZDdzTq",
        "outputId": "5a59f33d-1427-41f5-d774-ccb9b2f17bbe",
        "colab": {
          "base_uri": "https://localhost:8080/"
        }
      },
      "outputs": [
        {
          "output_type": "execute_result",
          "data": {
            "text/plain": [
              "tensor([[-0.0936, -0.3120, -0.1840,  0.0635, -0.1278, -0.0626,  0.2373,  0.0758,\n",
              "          0.2220,  0.2871],\n",
              "        [ 0.0759, -0.2019, -0.1076,  0.0968, -0.0641, -0.1233,  0.3476,  0.0336,\n",
              "          0.1752,  0.3002]], grad_fn=<AddmmBackward0>)"
            ]
          },
          "metadata": {},
          "execution_count": 9
        }
      ],
      "source": [
        "net = MySequential(nn.Linear(20, 256), nn.ReLU(), nn.Linear(256, 10))\n",
        "net(X)"
      ]
    },
    {
      "cell_type": "markdown",
      "metadata": {
        "origin_pos": 28,
        "id": "yqRFrNUAdzTq"
      },
      "source": [
        "Note that this use of `MySequential`\n",
        "is identical to the code we previously wrote\n",
        "for the `Sequential` class.\n",
        "\n",
        "\n",
        "## **5. Executing Code in the Forward Propagation Function**\n",
        "\n",
        "So now you may wondering now we have the `nn.Sequential` class, \n",
        "and it's very easy to assemble new architectures without writing \n",
        "additional codes like the MLP, \n",
        "why we are trying to use the subclass of `nn.Module` to build blocks?\n",
        "\n",
        "The reason is not all architectures are simple daisy chains.\n",
        "We often want to define more flexible blocks, for example, with\n",
        "Python's control flow or arbitrary mathematical operations.\n",
        "\n",
        "Sometimes, we might want to incorporate terms\n",
        "that are neither the result of previous layers\n",
        "nor updatable parameters.\n",
        "We call these *constant parameters*.\n",
        "Say for example that we want a layer\n",
        "that calculates the function\n",
        "$f(\\mathbf{x},\\mathbf{w}) = c \\cdot \\mathbf{w}^\\top \\mathbf{x}$,\n",
        "where $\\mathbf{x}$ is the input, $\\mathbf{w}$ is our parameter,\n",
        "and $c$ is some specified constant\n",
        "that is not updated during optimization.\n",
        "So we implement a `FixedHiddenMLP` class as follows.\n"
      ]
    },
    {
      "cell_type": "code",
      "execution_count": 10,
      "metadata": {
        "origin_pos": 30,
        "tab": [
          "pytorch"
        ],
        "id": "2WnT4kVbdzTq"
      },
      "outputs": [],
      "source": [
        "class FixedHiddenMLP(nn.Module):\n",
        "    def __init__(self):\n",
        "        super().__init__()\n",
        "        # Random weight parameters that will not compute gradients and\n",
        "        # therefore keep constant during training\n",
        "        self.rand_weight = torch.rand((20, 20), requires_grad=False)\n",
        "        self.linear = nn.Linear(20, 20)\n",
        "\n",
        "    def forward(self, X):\n",
        "        X = self.linear(X)\n",
        "        # Use the created constant parameters, as well as the `relu` and `mm`\n",
        "        # functions\n",
        "        X = F.relu(torch.mm(X, self.rand_weight) + 1)\n",
        "        # Reuse the fully-connected layer. This is equivalent to sharing\n",
        "        # parameters with two fully-connected layers\n",
        "        X = self.linear(X)\n",
        "        # Control flow\n",
        "        while X.abs().sum() > 1:\n",
        "            X /= 2\n",
        "        return X.sum()"
      ]
    },
    {
      "cell_type": "markdown",
      "metadata": {
        "origin_pos": 32,
        "id": "Oui80ncvdzTr"
      },
      "source": [
        "In this `FixedHiddenMLP` model,\n",
        "we implement a hidden layer whose weights\n",
        "(`self.rand_weight`) are initialized randomly\n",
        "at instantiation and are thereafter constant.\n",
        "This weight is not a model parameter\n",
        "and thus it is never updated by backpropagation.\n",
        "The network then passes the output of this \"fixed\" layer\n",
        "through a fully-connected layer.\n",
        "\n",
        "Note that before returning the output,\n",
        "our model did something unusual.\n",
        "We ran a while-loop, testing\n",
        "on the condition its $L_1$ norm is larger than $1$,\n",
        "and dividing our output vector by $2$\n",
        "until it satisfied the condition.\n",
        "Finally, we returned the sum of the entries in `X`.\n",
        "\n",
        "To our knowledge, no standard neural network\n",
        "performs this operation.\n",
        "Note that this particular operation may not be useful\n",
        "in any real-world task.\n",
        "Our point is only to show you how to integrate\n",
        "arbitrary code into the flow of your\n",
        "neural network computations.\n"
      ]
    },
    {
      "cell_type": "code",
      "execution_count": 11,
      "metadata": {
        "origin_pos": 34,
        "tab": [
          "pytorch"
        ],
        "id": "BoeieVCMdzTr",
        "outputId": "f0c11432-9ef8-4543-cc9c-bcff73c1c21b",
        "colab": {
          "base_uri": "https://localhost:8080/"
        }
      },
      "outputs": [
        {
          "output_type": "execute_result",
          "data": {
            "text/plain": [
              "tensor(-0.1849, grad_fn=<SumBackward0>)"
            ]
          },
          "metadata": {},
          "execution_count": 11
        }
      ],
      "source": [
        "net = FixedHiddenMLP()\n",
        "net(X)"
      ]
    },
    {
      "cell_type": "markdown",
      "metadata": {
        "origin_pos": 35,
        "id": "g6aClWl4dzTr"
      },
      "source": [
        "We can [**mix and match various\n",
        "ways of assembling blocks together.**]\n",
        "In the following example, we nest several blocks using different methods.\n"
      ]
    },
    {
      "cell_type": "code",
      "execution_count": 12,
      "metadata": {
        "origin_pos": 37,
        "tab": [
          "pytorch"
        ],
        "id": "DhJoCF9kdzTr",
        "outputId": "e6e3e6f9-b9ac-427b-8728-9294cbce711b",
        "colab": {
          "base_uri": "https://localhost:8080/"
        }
      },
      "outputs": [
        {
          "output_type": "execute_result",
          "data": {
            "text/plain": [
              "tensor(0.0132, grad_fn=<SumBackward0>)"
            ]
          },
          "metadata": {},
          "execution_count": 12
        }
      ],
      "source": [
        "class NestMLP(nn.Module):\n",
        "    def __init__(self):\n",
        "        super().__init__()\n",
        "        self.net = nn.Sequential(nn.Linear(20, 64), nn.ReLU(),\n",
        "                                 nn.Linear(64, 32), nn.ReLU())\n",
        "        self.linear = nn.Linear(32, 16)\n",
        "\n",
        "    def forward(self, X):\n",
        "        return self.linear(self.net(X))\n",
        "\n",
        "chimera = nn.Sequential(NestMLP(), nn.Linear(16, 20), FixedHiddenMLP())\n",
        "chimera(X)"
      ]
    },
    {
      "cell_type": "markdown",
      "source": [
        "But I don't recommend you to do it. Using the block style rather the sequential style will make your code more clear."
      ],
      "metadata": {
        "id": "NDcwQgOfQRf3"
      }
    }
  ],
  "metadata": {
    "kernelspec": {
      "display_name": "Python 3",
      "name": "python3"
    },
    "language_info": {
      "name": "python"
    },
    "colab": {
      "provenance": []
    }
  },
  "nbformat": 4,
  "nbformat_minor": 0
}